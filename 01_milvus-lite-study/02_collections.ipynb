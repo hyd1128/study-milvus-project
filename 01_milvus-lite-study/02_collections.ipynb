{
 "cells": [
  {
   "metadata": {
    "ExecuteTime": {
     "end_time": "2025-04-25T06:39:19.882450Z",
     "start_time": "2025-04-25T06:39:19.875386Z"
    }
   },
   "cell_type": "code",
   "source": [
    "# 快速启动milvus docker容器\n",
    "# start the docker container\n",
    "# bash standalone_embed.sh start\n",
    "\n",
    "# Stop Milvus\n",
    "# bash standalone_embed.sh stop\n",
    "\n",
    "# Delete Milvus data\n",
    "# bash standalone_embed.sh delete\n",
    "\n",
    "# upgrade Milvus\n",
    "# bash standalone_embed.sh upgrade\n",
    "\n",
    "# Milvus WebUI地址\n",
    "# http://127.0.0.1:9091/webui/"
   ],
   "id": "f337768124bf13e3",
   "outputs": [],
   "execution_count": 2
  },
  {
   "metadata": {},
   "cell_type": "code",
   "outputs": [],
   "execution_count": null,
   "source": "",
   "id": "9a84e9e958725691"
  }
 ],
 "metadata": {
  "kernelspec": {
   "display_name": "Python 3",
   "language": "python",
   "name": "python3"
  },
  "language_info": {
   "codemirror_mode": {
    "name": "ipython",
    "version": 2
   },
   "file_extension": ".py",
   "mimetype": "text/x-python",
   "name": "python",
   "nbconvert_exporter": "python",
   "pygments_lexer": "ipython2",
   "version": "2.7.6"
  }
 },
 "nbformat": 4,
 "nbformat_minor": 5
}
